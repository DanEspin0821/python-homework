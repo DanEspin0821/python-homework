{
 "cells": [
  {
   "cell_type": "code",
   "execution_count": 1,
   "id": "53919631-268b-40c9-b011-752b477ceb71",
   "metadata": {},
   "outputs": [],
   "source": [
    "# Import Libraries\n",
    "import csv\n",
    "from pathlib import Path "
   ]
  },
  {
   "cell_type": "code",
   "execution_count": 2,
   "id": "7f4ea7d5-dff1-43f7-83c1-0a3d9f5dae9c",
   "metadata": {},
   "outputs": [],
   "source": [
    "# Set the file path\n",
    "file_path = Path('../PyBank/budget_data.csv')"
   ]
  },
  {
   "cell_type": "code",
   "execution_count": 3,
   "id": "b0aa22e5-608e-49e2-a02c-11a08f16e010",
   "metadata": {},
   "outputs": [],
   "source": [
    "# Create empty lists to iterate through rows for each empty list\n",
    "tot_months = []\n",
    "tot_profit = []\n",
    "profit_delta = []"
   ]
  },
  {
   "cell_type": "code",
   "execution_count": 4,
   "id": "d8114015-678b-4210-94db-c9b06445ad01",
   "metadata": {},
   "outputs": [],
   "source": [
    "# open CSV file\n",
    "with open(file_path, newline='\\n') as csvfile:\n",
    "    # Set ReadCSV and delimiter\n",
    "    ThisCSV = csv.reader(csvfile, delimiter=',')\n",
    "\n",
    "    # Skip the header\n",
    "    header = next(ThisCSV)  \n",
    "\n",
    "    # Loop through rows\n",
    "    for eachrow in ThisCSV: \n",
    "\n",
    "        # Start filling empty list with the corresponding data for months and profit\n",
    "        tot_months.append(eachrow[0])\n",
    "        tot_profit.append(int(eachrow[1]))\n",
    "\n",
    "    # Start loop to find change in profit monthly\n",
    "    for i in range(len(tot_profit)-1):\n",
    "        \n",
    "        # Take the difference between two months and add\n",
    "        profit_delta.append(tot_profit[i+1]-tot_profit[i])"
   ]
  },
  {
   "cell_type": "code",
   "execution_count": 5,
   "id": "ff8d6d11-1473-421d-b61e-e4e3d9540a44",
   "metadata": {},
   "outputs": [],
   "source": [
    "# Obtain the max and min of the the montly profit change list\n",
    "max_increase_value = max(profit_delta)\n",
    "max_decrease_value = min(profit_delta)"
   ]
  },
  {
   "cell_type": "code",
   "execution_count": 6,
   "id": "9083af11-026c-497f-a4f1-a7af28bee73f",
   "metadata": {},
   "outputs": [],
   "source": [
    "# Correlate max and min to the proper month using month list and index from max and min\n",
    "#We use the plus 1 at the end since month associated with change is the + 1 month or next month\n",
    "max_increase_month = profit_delta.index(max(profit_delta)) + 1\n",
    "max_decrease_month = profit_delta.index(min(profit_delta)) + 1 "
   ]
  },
  {
   "cell_type": "code",
   "execution_count": 7,
   "id": "7f653d04-031b-41ad-b552-d294bcc78b2c",
   "metadata": {},
   "outputs": [
    {
     "name": "stdout",
     "output_type": "stream",
     "text": [
      "Financial Analysis\n",
      "----------------------------\n",
      "Total Months: 86\n",
      "Total: $38382578\n",
      "Average Change: -2315.12\n",
      "Greatest Increase in Profits: 2/1/2012 ($1926159)\n",
      "Greatest Decrease in Profits: 9/1/2013 ($-2196167)\n"
     ]
    }
   ],
   "source": [
    "# Print Statements\n",
    "\n",
    "print(\"Financial Analysis\")\n",
    "print(\"----------------------------\")\n",
    "print(f\"Total Months: {len(tot_months)}\")\n",
    "print(f\"Total: ${sum(tot_profit)}\")\n",
    "print(f\"Average Change: {round(sum(profit_delta)/len(profit_delta),2)}\")\n",
    "print(f\"Greatest Increase in Profits: {tot_months[max_increase_month]} (${(str(max_increase_value))})\")\n",
    "print(f\"Greatest Decrease in Profits: {tot_months[max_decrease_month]} (${(str(max_decrease_value))})\")"
   ]
  },
  {
   "cell_type": "code",
   "execution_count": 8,
   "id": "7f826489-888a-46b2-bb87-3a936995b0d4",
   "metadata": {},
   "outputs": [],
   "source": [
    "# Output files\n",
    "output_file = Path('../PyBank', \"Pybank_Analysis_Summary.txt\")\n",
    "\n",
    "with open(output_file,\"w\") as file:\n",
    "    \n",
    "# Write methods to print to Financial_Analysis_Summary \n",
    "    file.write(\"Financial Analysis\")\n",
    "    file.write(\"\\n\")\n",
    "    file.write(\"----------------------------\")\n",
    "    file.write(\"\\n\")\n",
    "    file.write(f\"Total Months: {len(tot_months)}\")\n",
    "    file.write(\"\\n\")\n",
    "    file.write(f\"Total: ${sum(tot_profit)}\")\n",
    "    file.write(\"\\n\")\n",
    "    file.write(f\"Average Change: {round(sum(profit_delta)/len(profit_delta),2)}\")\n",
    "    file.write(\"\\n\")\n",
    "    file.write(f\"Greatest Increase in Profits: {tot_months[max_increase_month]} (${(str(max_increase_value))})\")\n",
    "    file.write(\"\\n\")\n",
    "    file.write(f\"Greatest Decrease in Profits: {tot_months[max_decrease_month]} (${(str(max_decrease_value))})\")"
   ]
  },
  {
   "cell_type": "code",
   "execution_count": null,
   "id": "d1a90da5-f683-4d35-96a3-32b681960f73",
   "metadata": {},
   "outputs": [],
   "source": []
  }
 ],
 "metadata": {
  "kernelspec": {
   "display_name": "Python 3",
   "language": "python",
   "name": "python3"
  },
  "language_info": {
   "codemirror_mode": {
    "name": "ipython",
    "version": 3
   },
   "file_extension": ".py",
   "mimetype": "text/x-python",
   "name": "python",
   "nbconvert_exporter": "python",
   "pygments_lexer": "ipython3",
   "version": "3.7.10"
  }
 },
 "nbformat": 4,
 "nbformat_minor": 5
}
